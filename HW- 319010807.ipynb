{
 "cells": [
  {
   "cell_type": "markdown",
   "id": "5e0e1cea",
   "metadata": {},
   "source": [
    "# Advanced data mining and analysis in Python "
   ]
  },
  {
   "cell_type": "markdown",
   "id": "7f81df68",
   "metadata": {},
   "source": [
    "## Exercise number 1:\n",
    "#### Name: Einav Diar\n",
    "#### ID Num: 319010807"
   ]
  },
  {
   "cell_type": "markdown",
   "id": "2767d3b1",
   "metadata": {},
   "source": [
    "#### Question 1:"
   ]
  },
  {
   "cell_type": "code",
   "execution_count": 1,
   "id": "3f74b244",
   "metadata": {},
   "outputs": [],
   "source": [
    "def my_func(x1,x2,x3):\n",
    "    try:  \n",
    "        if x1+x2+x3==0:\n",
    "            print(\"Not a number – denominator equals zero\")\n",
    "        elif type(x1) is int or type(x2) is int or type(x3) is int:\n",
    "            print(\"Error: parameters should be float\")\n",
    "        x1=float(x1)\n",
    "        x2=float(x2)\n",
    "        x3=float(x3)\n",
    "        a=x1+x2+x3\n",
    "        b=x2+x3\n",
    "        print((a*b*3)/a)\n",
    "    except:\n",
    "        if type(x1) is str or type(x2) is str or type(x3) is str:\n",
    "            print(\"None\")"
   ]
  },
  {
   "cell_type": "code",
   "execution_count": 2,
   "id": "fb8dd586",
   "metadata": {},
   "outputs": [
    {
     "name": "stdout",
     "output_type": "stream",
     "text": [
      "29.1\n"
     ]
    }
   ],
   "source": [
    "my_func(1.1,2.3,7.4)"
   ]
  },
  {
   "cell_type": "code",
   "execution_count": 3,
   "id": "f7505ddc",
   "metadata": {},
   "outputs": [
    {
     "name": "stdout",
     "output_type": "stream",
     "text": [
      "Not a number – denominator equals zero\n"
     ]
    }
   ],
   "source": [
    "my_func(2,-5,3)"
   ]
  },
  {
   "cell_type": "code",
   "execution_count": 4,
   "id": "3a340c29",
   "metadata": {},
   "outputs": [
    {
     "name": "stdout",
     "output_type": "stream",
     "text": [
      "Error: parameters should be float\n",
      "21.0\n"
     ]
    }
   ],
   "source": [
    "my_func(6,4,3)"
   ]
  },
  {
   "cell_type": "code",
   "execution_count": 5,
   "id": "966799b0",
   "metadata": {},
   "outputs": [
    {
     "name": "stdout",
     "output_type": "stream",
     "text": [
      "None\n"
     ]
    }
   ],
   "source": [
    "my_func(6.1,\"einav\",3.4)"
   ]
  },
  {
   "cell_type": "markdown",
   "id": "664dbaaa",
   "metadata": {},
   "source": [
    "#### Question 2:"
   ]
  },
  {
   "cell_type": "code",
   "execution_count": 6,
   "id": "35b7643c",
   "metadata": {},
   "outputs": [
    {
     "name": "stdout",
     "output_type": "stream",
     "text": [
      "The first word is: \" first \" and it appears 6 times.\n"
     ]
    }
   ],
   "source": [
    "def revword(word:str):\n",
    "    word=word[::-1]\n",
    "    word=word.lower()\n",
    "    return word\n",
    "\n",
    "def countword():\n",
    "    text=open('text.txt','r')\n",
    "    count=1\n",
    "    lst=list()\n",
    "    for line in text:\n",
    "        listlines = line.rstrip().split()\n",
    "        if len(lst)==0:\n",
    "            word=listlines[0]\n",
    "            lst.append(listlines)\n",
    "        elif len(lst)>0: \n",
    "            for i in listlines:\n",
    "                new=revword(i)\n",
    "                if new==word:\n",
    "                    count+=1\n",
    "\n",
    "    print('The first word is: \"', word,'\" and it appears',count,'times.')\n",
    "\n",
    "countword()"
   ]
  }
 ],
 "metadata": {
  "kernelspec": {
   "display_name": "Python 3 (ipykernel)",
   "language": "python",
   "name": "python3"
  },
  "language_info": {
   "codemirror_mode": {
    "name": "ipython",
    "version": 3
   },
   "file_extension": ".py",
   "mimetype": "text/x-python",
   "name": "python",
   "nbconvert_exporter": "python",
   "pygments_lexer": "ipython3",
   "version": "3.9.6"
  }
 },
 "nbformat": 4,
 "nbformat_minor": 5
}
